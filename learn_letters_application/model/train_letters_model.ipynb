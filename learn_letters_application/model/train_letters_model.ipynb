{
 "cells": [
  {
   "cell_type": "code",
   "execution_count": 1,
   "id": "f48f9da8-382c-4630-bf4a-1e227ed26703",
   "metadata": {},
   "outputs": [],
   "source": [
    "import numpy as np\n",
    "import pandas as pd\n",
    "\n",
    "import cv2\n",
    "import matplotlib.pyplot as plt\n",
    "import random\n",
    "import seaborn as sns\n",
    "\n",
    "import tensorflow as tf\n",
    "\n",
    "from sklearn.model_selection import train_test_split\n",
    "from sklearn.metrics import confusion_matrix\n",
    "from bidict import bidict\n",
    "\n",
    "import sys\n",
    "\n",
    "from keras.models import Sequential\n",
    "from keras.callbacks import EarlyStopping, ModelCheckpoint\n",
    "from keras import layers\n",
    "from keras.layers import *\n",
    "from keras.utils import np_utils\n",
    "from keras.preprocessing.image import ImageDataGenerator"
   ]
  },
  {
   "cell_type": "code",
   "execution_count": 2,
   "id": "e5b3ec65-f64e-4aef-acb2-27c1f5e008e7",
   "metadata": {},
   "outputs": [],
   "source": [
    "ENCODER = bidict({\n",
    "    'A': 1, 'B': 2, 'C': 3, 'D': 4, 'E': 5, 'F': 6,\n",
    "    'G': 7, 'H': 8, 'I': 9, 'J': 10, 'K': 11, 'L': 12,\n",
    "    'M': 13, 'N': 14, 'O': 15, 'P': 16, 'Q': 17, 'R': 18,\n",
    "    'S': 19, 'T': 20, 'U': 21, 'V': 22, 'W': 23, 'X': 24,\n",
    "    'Y': 25, 'Z': 26, 'a': 27, 'b': 28, 'c': 29, 'd': 30,\n",
    "    'e': 31, 'f': 32, 'g': 33, 'h': 34, 'i': 35, 'j': 36,\n",
    "    'k': 37, 'l': 38, 'm': 39, 'n': 40, 'o': 41, 'p': 42,\n",
    "    'q': 43, 'r': 44, 's': 45, 't': 46, 'u': 47, 'v': 48,\n",
    "    'w': 49, 'x': 50, 'y': 51, 'z': 52\n",
    "})"
   ]
  },
  {
   "cell_type": "markdown",
   "id": "1ea30dc1-2835-4be7-b732-50d14dce7960",
   "metadata": {},
   "source": [
    "### Load labels"
   ]
  },
  {
   "cell_type": "code",
   "execution_count": 3,
   "id": "60de1380-741e-4864-b983-3165118eb729",
   "metadata": {},
   "outputs": [
    {
     "data": {
      "text/plain": [
       "array(['u', 'm', 'r', 'N', 'A'], dtype='<U1')"
      ]
     },
     "execution_count": 3,
     "metadata": {},
     "output_type": "execute_result"
    }
   ],
   "source": [
    "labels = np.load('../data/labels.npy')\n",
    "labels[0:5]"
   ]
  },
  {
   "cell_type": "markdown",
   "id": "bb2a6a7e-64ce-42d7-a83a-f9c180d8b39f",
   "metadata": {},
   "source": [
    "### Load images"
   ]
  },
  {
   "cell_type": "code",
   "execution_count": 4,
   "id": "4f4ddaad-a832-47d4-824d-bf18e370b21e",
   "metadata": {},
   "outputs": [
    {
     "data": {
      "text/plain": [
       "array([[[0., 0., 0., ..., 0., 0., 0.],\n",
       "        [0., 0., 0., ..., 0., 0., 0.],\n",
       "        [0., 0., 0., ..., 0., 0., 0.],\n",
       "        ...,\n",
       "        [0., 0., 0., ..., 0., 0., 0.],\n",
       "        [0., 0., 0., ..., 0., 0., 0.],\n",
       "        [0., 0., 0., ..., 0., 0., 0.]],\n",
       "\n",
       "       [[0., 0., 0., ..., 0., 0., 0.],\n",
       "        [0., 0., 0., ..., 0., 0., 0.],\n",
       "        [0., 0., 0., ..., 0., 0., 0.],\n",
       "        ...,\n",
       "        [0., 0., 0., ..., 0., 0., 0.],\n",
       "        [0., 0., 0., ..., 0., 0., 0.],\n",
       "        [0., 0., 0., ..., 0., 0., 0.]]])"
      ]
     },
     "execution_count": 4,
     "metadata": {},
     "output_type": "execute_result"
    }
   ],
   "source": [
    "imgs = np.load('../data/images.npy')\n",
    "imgs[0:2]"
   ]
  },
  {
   "cell_type": "markdown",
   "id": "1c1141c0-de64-4090-8a46-b9160284cd5d",
   "metadata": {},
   "source": [
    "### Distribution of Letters"
   ]
  },
  {
   "cell_type": "code",
   "execution_count": 5,
   "id": "9467c378-6b24-4d8b-bc62-460132c33bb3",
   "metadata": {},
   "outputs": [
    {
     "name": "stdout",
     "output_type": "stream",
     "text": [
      "Number of Classes: 52\n",
      "Number of Data Points: 1300\n"
     ]
    },
    {
     "data": {
      "image/png": "[encoded data removed]",
      "text/plain": [
       "<Figure size 864x576 with 1 Axes>"
      ]
     },
     "metadata": {
      "needs_background": "light"
     },
     "output_type": "display_data"
    }
   ],
   "source": [
    "data = {}\n",
    "\n",
    "for label in labels:\n",
    "    data[label] = data.get(label, 0) + 1\n",
    "\n",
    "data = sorted(data.items(), key=lambda x: x[1], reverse=True)\n",
    "\n",
    "x = [d[0] for d in data]\n",
    "y = [d[1] for d in data]\n",
    "\n",
    "print(f\"Number of Classes: {len(data)}\")\n",
    "print(f\"Number of Data Points: {len(labels)}\")\n",
    "\n",
    "fig = plt.figure(figsize = (12, 8))\n",
    "plt.bar(x, y)\n",
    "plt.xlabel(\"Letters\")\n",
    "plt.ylabel(\"No. of Letters\")\n",
    "plt.title(\"Letter Distribution\")\n",
    "plt.show()"
   ]
  },
  {
   "cell_type": "markdown",
   "id": "6415e657-f5a3-4278-8fd0-a949ccc1333f",
   "metadata": {},
   "source": [
    "### Encode labels from ENCODER dictionary"
   ]
  },
  {
   "cell_type": "code",
   "execution_count": 6,
   "id": "20029954-5e84-4232-9722-269825620ac5",
   "metadata": {},
   "outputs": [
    {
     "data": {
      "text/plain": [
       "array([47, 39, 44, 14,  1])"
      ]
     },
     "execution_count": 6,
     "metadata": {},
     "output_type": "execute_result"
    }
   ],
   "source": [
    "labels = np.array([ENCODER[x] for x in labels])\n",
    "labels[0:5]"
   ]
  },
  {
   "cell_type": "code",
   "execution_count": 7,
   "id": "7557e982-d231-4d71-b33e-fb70d50bd5c9",
   "metadata": {},
   "outputs": [
    {
     "data": {
      "text/plain": [
       "(1300,)"
      ]
     },
     "execution_count": 7,
     "metadata": {},
     "output_type": "execute_result"
    }
   ],
   "source": [
    "labels.shape"
   ]
  },
  {
   "cell_type": "markdown",
   "id": "6f29c639-6eff-45d3-ad9a-a9ad9fbd446b",
   "metadata": {},
   "source": [
    "### Expand shape of image to 4D"
   ]
  },
  {
   "cell_type": "code",
   "execution_count": 8,
   "id": "db3138a1-2b9c-4861-9c55-03ff0bd08a5c",
   "metadata": {},
   "outputs": [],
   "source": [
    "imgs = np.expand_dims(imgs, -1)"
   ]
  },
  {
   "cell_type": "code",
   "execution_count": 9,
   "id": "c0f45817-00ed-4c4c-89b9-49fff19c86e5",
   "metadata": {},
   "outputs": [
    {
     "data": {
      "text/plain": [
       "(1300, 50, 50, 1)"
      ]
     },
     "execution_count": 9,
     "metadata": {},
     "output_type": "execute_result"
    }
   ],
   "source": [
    "imgs.shape"
   ]
  },
  {
   "cell_type": "markdown",
   "id": "f6ace88d-3307-4725-91e5-b0b55d2e6778",
   "metadata": {},
   "source": [
    "### Create a training and validation split"
   ]
  },
  {
   "cell_type": "code",
   "execution_count": 10,
   "id": "f505c1e5-a41f-4762-a9e2-16789ecdefdf",
   "metadata": {},
   "outputs": [],
   "source": [
    "x_train, x_val, y_train, y_val  = train_test_split(imgs, labels,\n",
    "                                                   train_size = 0.80,\n",
    "                                                   test_size = 0.20,\n",
    "                                                   random_state = 45)"
   ]
  },
  {
   "cell_type": "markdown",
   "id": "ba15b961-b741-495e-8366-6afdfd8381ef",
   "metadata": {},
   "source": [
    "### Reshape and Normalize train and validation data"
   ]
  },
  {
   "cell_type": "code",
   "execution_count": 11,
   "id": "30a18027-efe9-4c57-b42e-7ee9368feafc",
   "metadata": {},
   "outputs": [
    {
     "name": "stdout",
     "output_type": "stream",
     "text": [
      "Training set: ((1040, 50, 50, 1), (1040,))\n",
      "Validation set: ((260, 50, 50, 1), (260,))\n"
     ]
    }
   ],
   "source": [
    "x_train = x_train / 255.0\n",
    "x_val = x_val / 255.0\n",
    "\n",
    "print(f\"Training set: {x_train.shape, y_train.shape}\")\n",
    "print(f\"Validation set: {x_val.shape, y_val.shape}\")"
   ]
  },
  {
   "cell_type": "markdown",
   "id": "0a392760-362a-468d-8bd5-f85494bcfbd7",
   "metadata": {},
   "source": [
    "### View sample images of the training set"
   ]
  },
  {
   "cell_type": "code",
   "execution_count": 12,
   "id": "d74d65dd-2e4f-4790-9f22-715bf2fd11e3",
   "metadata": {},
   "outputs": [
    {
     "data": {
      "image/png": "[encoded data removed]",
      "text/plain": [
       "<Figure size 432x432 with 9 Axes>"
      ]
     },
     "metadata": {
      "needs_background": "light"
     },
     "output_type": "display_data"
    }
   ],
   "source": [
    "train_samples = random.sample(range(0, len(x_train)), 9)\n",
    "\n",
    "x_train\n",
    "\n",
    "plt.figure(figsize=(6,6))\n",
    "plt.suptitle('Training Set')\n",
    "\n",
    "for i in train_samples:\n",
    "  plt.subplot(3, 3, train_samples.index(i) + 1)\n",
    "  plt.imshow(x_train[i, :], cmap = 'binary')\n",
    "  plt.title(f'label: {ENCODER.inverse[y_train[i]]}')\n",
    "  plt.axis('off')"
   ]
  },
  {
   "cell_type": "markdown",
   "id": "ae8afa21-7796-4a1a-86f8-d64b5eb87ee5",
   "metadata": {},
   "source": [
    "### Create CNN Model"
   ]
  },
  {
   "cell_type": "code",
   "execution_count": 13,
   "id": "2e9ed932-938f-4aa4-8138-f1334bd6dcb1",
   "metadata": {},
   "outputs": [
    {
     "data": {
      "text/plain": [
       "\"\\nmodel = tf.keras.models.Sequential([\\n    tf.keras.Input(shape=(50, 50, 1)),\\n    layers.Conv2D(filters=32, kernel_size=3, activation='relu'),\\n    layers.MaxPool2D(pool_size=2),\\n    layers.Dropout(0.2),\\n    layers.Conv2D(filters=64, kernel_size=3, activation='relu'),\\n    layers.MaxPool2D(pool_size=2),\\n    layers.Dropout(0.2),\\n    layers.Flatten(),\\n    layers.Dense(len(ENCODER) + 1, activation = 'softmax')\\n])\\n\""
      ]
     },
     "execution_count": 13,
     "metadata": {},
     "output_type": "execute_result"
    }
   ],
   "source": [
    "'''\n",
    "model = tf.keras.models.Sequential([\n",
    "    tf.keras.Input(shape=(50, 50, 1)),\n",
    "    layers.Conv2D(filters=32, kernel_size=3, activation='relu'),\n",
    "    layers.MaxPool2D(pool_size=2),\n",
    "    layers.Dropout(0.2),\n",
    "    layers.Conv2D(filters=64, kernel_size=3, activation='relu'),\n",
    "    layers.MaxPool2D(pool_size=2),\n",
    "    layers.Dropout(0.2),\n",
    "    layers.Flatten(),\n",
    "    layers.Dense(len(ENCODER) + 1, activation = 'softmax')\n",
    "])\n",
    "'''"
   ]
  },
  {
   "cell_type": "code",
   "execution_count": 14,
   "id": "323be56c-6ffb-4805-a98c-79adf437035e",
   "metadata": {},
   "outputs": [],
   "source": [
    "model = tf.keras.models.Sequential([\n",
    "    tf.keras.Input(shape=(50, 50, 1)),\n",
    "    layers.Conv2D(32, (3, 3), activation='relu'),\n",
    "    layers.MaxPool2D((2,2)),\n",
    "    layers.Conv2D(64, (3, 3), activation='relu'),\n",
    "    layers.MaxPool2D((2, 2)),\n",
    "    layers.Dropout(0.2),\n",
    "    layers.Conv2D(64, (3, 3), activation='relu'),\n",
    "    layers.MaxPool2D((2, 2)),\n",
    "    layers.Dropout(0.2),\n",
    "    layers.Flatten(),\n",
    "    layers.Dense(len(ENCODER) + 1, activation = 'softmax')\n",
    "])"
   ]
  },
  {
   "cell_type": "code",
   "execution_count": 15,
   "id": "91dd6d10-20b7-4b0b-945d-ea08f05bb6f5",
   "metadata": {},
   "outputs": [],
   "source": [
    "early_stopping = EarlyStopping(monitor = 'val_loss', patience = 5, verbose = 1, mode = 'min')\n",
    "mcp_save = ModelCheckpoint('letters_model.h5', save_best_only = True, monitor = 'val_loss', verbose = 1, mode = 'auto')\n",
    "optimizer = tf.keras.optimizers.Adam()"
   ]
  },
  {
   "cell_type": "code",
   "execution_count": 16,
   "id": "c8c41a4e-e0ee-4c02-a578-5ea51c0bf4e1",
   "metadata": {},
   "outputs": [],
   "source": [
    "model.compile(loss = 'sparse_categorical_crossentropy',\n",
    "     optimizer = optimizer,\n",
    "     metrics = ['accuracy'])"
   ]
  },
  {
   "cell_type": "code",
   "execution_count": 17,
   "id": "43f7246c-5e6b-4075-9505-6821c46adfd6",
   "metadata": {},
   "outputs": [
    {
     "name": "stdout",
     "output_type": "stream",
     "text": [
      "Model: \"sequential\"\n",
      "_________________________________________________________________\n",
      " Layer (type)                Output Shape              Param #   \n",
      "=================================================================\n",
      " conv2d (Conv2D)             (None, 48, 48, 32)        320       \n",
      "                                                                 \n",
      " max_pooling2d (MaxPooling2D  (None, 24, 24, 32)       0         \n",
      " )                                                               \n",
      "                                                                 \n",
      " conv2d_1 (Conv2D)           (None, 22, 22, 64)        18496     \n",
      "                                                                 \n",
      " max_pooling2d_1 (MaxPooling  (None, 11, 11, 64)       0         \n",
      " 2D)                                                             \n",
      "                                                                 \n",
      " dropout (Dropout)           (None, 11, 11, 64)        0         \n",
      "                                                                 \n",
      " conv2d_2 (Conv2D)           (None, 9, 9, 64)          36928     \n",
      "                                                                 \n",
      " max_pooling2d_2 (MaxPooling  (None, 4, 4, 64)         0         \n",
      " 2D)                                                             \n",
      "                                                                 \n",
      " dropout_1 (Dropout)         (None, 4, 4, 64)          0         \n",
      "                                                                 \n",
      " flatten (Flatten)           (None, 1024)              0         \n",
      "                                                                 \n",
      " dense (Dense)               (None, 53)                54325     \n",
      "                                                                 \n",
      "=================================================================\n",
      "Total params: 110,069\n",
      "Trainable params: 110,069\n",
      "Non-trainable params: 0\n",
      "_________________________________________________________________\n"
     ]
    }
   ],
   "source": [
    "model.summary()"
   ]
  },
  {
   "cell_type": "markdown",
   "id": "1d6788b7-7e6a-4004-9d01-842533a87f30",
   "metadata": {},
   "source": [
    "### Train the Model"
   ]
  },
  {
   "cell_type": "code",
   "execution_count": 18,
   "id": "a4433fce-ce35-4909-ab00-f6a78e36dd13",
   "metadata": {},
   "outputs": [],
   "source": [
    "# create data generator\n",
    "datagen = ImageDataGenerator(width_shift_range=0.1, height_shift_range=0.1, horizontal_flip=True)\n",
    "\n",
    "# prepare iterator\n",
    "it_train = datagen.flow(x_train, y_train, batch_size=10)\n",
    "\n",
    "steps = int(x_train.shape[0] / 10)"
   ]
  },
  {
   "cell_type": "code",
   "execution_count": 19,
   "id": "576adb9c-28fd-4829-813c-61d1ac2a6ff8",
   "metadata": {},
   "outputs": [
    {
     "name": "stdout",
     "output_type": "stream",
     "text": [
      "Epoch 1/100\n",
      "104/104 [==============================] - ETA: 0s - loss: 3.9242 - accuracy: 0.0356\n",
      "Epoch 1: val_loss improved from inf to 3.65994, saving model to letters_model.h5\n",
      "104/104 [==============================] - 2s 13ms/step - loss: 3.9242 - accuracy: 0.0356 - val_loss: 3.6599 - val_accuracy: 0.0500\n",
      "Epoch 2/100\n",
      "103/104 [============================>.] - ETA: 0s - loss: 3.1748 - accuracy: 0.1592\n",
      "Epoch 2: val_loss improved from 3.65994 to 2.11161, saving model to letters_model.h5\n",
      "104/104 [==============================] - 1s 12ms/step - loss: 3.1768 - accuracy: 0.1587 - val_loss: 2.1116 - val_accuracy: 0.3462\n",
      "Epoch 3/100\n",
      "103/104 [============================>.] - ETA: 0s - loss: 2.1977 - accuracy: 0.3417\n",
      "Epoch 3: val_loss improved from 2.11161 to 1.22208, saving model to letters_model.h5\n",
      "104/104 [==============================] - 1s 12ms/step - loss: 2.1973 - accuracy: 0.3413 - val_loss: 1.2221 - val_accuracy: 0.5769\n",
      "Epoch 4/100\n",
      "102/104 [============================>.] - ETA: 0s - loss: 1.7178 - accuracy: 0.4892\n",
      "Epoch 4: val_loss improved from 1.22208 to 0.61431, saving model to letters_model.h5\n",
      "104/104 [==============================] - 1s 12ms/step - loss: 1.7074 - accuracy: 0.4923 - val_loss: 0.6143 - val_accuracy: 0.8231\n",
      "Epoch 5/100\n",
      "103/104 [============================>.] - ETA: 0s - loss: 1.3494 - accuracy: 0.6039\n",
      "Epoch 5: val_loss improved from 0.61431 to 0.56842, saving model to letters_model.h5\n",
      "104/104 [==============================] - 1s 12ms/step - loss: 1.3412 - accuracy: 0.6067 - val_loss: 0.5684 - val_accuracy: 0.8346\n",
      "Epoch 6/100\n",
      "103/104 [============================>.] - ETA: 0s - loss: 1.1351 - accuracy: 0.6466\n",
      "Epoch 6: val_loss improved from 0.56842 to 0.39694, saving model to letters_model.h5\n",
      "104/104 [==============================] - 1s 12ms/step - loss: 1.1304 - accuracy: 0.6481 - val_loss: 0.3969 - val_accuracy: 0.8538\n",
      "Epoch 7/100\n",
      "104/104 [==============================] - ETA: 0s - loss: 0.9097 - accuracy: 0.7260\n",
      "Epoch 7: val_loss improved from 0.39694 to 0.32306, saving model to letters_model.h5\n",
      "104/104 [==============================] - 1s 12ms/step - loss: 0.9097 - accuracy: 0.7260 - val_loss: 0.3231 - val_accuracy: 0.9115\n",
      "Epoch 8/100\n",
      "103/104 [============================>.] - ETA: 0s - loss: 0.8417 - accuracy: 0.7505\n",
      "Epoch 8: val_loss improved from 0.32306 to 0.31359, saving model to letters_model.h5\n",
      "104/104 [==============================] - 1s 12ms/step - loss: 0.8455 - accuracy: 0.7490 - val_loss: 0.3136 - val_accuracy: 0.8846\n",
      "Epoch 9/100\n",
      "104/104 [==============================] - ETA: 0s - loss: 0.7085 - accuracy: 0.7856\n",
      "Epoch 9: val_loss improved from 0.31359 to 0.30884, saving model to letters_model.h5\n",
      "104/104 [==============================] - 1s 12ms/step - loss: 0.7085 - accuracy: 0.7856 - val_loss: 0.3088 - val_accuracy: 0.9192\n",
      "Epoch 10/100\n",
      "103/104 [============================>.] - ETA: 0s - loss: 0.6423 - accuracy: 0.8000\n",
      "Epoch 10: val_loss improved from 0.30884 to 0.19317, saving model to letters_model.h5\n",
      "104/104 [==============================] - 1s 12ms/step - loss: 0.6378 - accuracy: 0.8019 - val_loss: 0.1932 - val_accuracy: 0.9308\n",
      "Epoch 11/100\n",
      "104/104 [==============================] - ETA: 0s - loss: 0.6157 - accuracy: 0.8192\n",
      "Epoch 11: val_loss did not improve from 0.19317\n",
      "104/104 [==============================] - 1s 14ms/step - loss: 0.6157 - accuracy: 0.8192 - val_loss: 0.2771 - val_accuracy: 0.8808\n",
      "Epoch 12/100\n",
      "103/104 [============================>.] - ETA: 0s - loss: 0.5905 - accuracy: 0.8136\n",
      "Epoch 12: val_loss improved from 0.19317 to 0.17855, saving model to letters_model.h5\n",
      "104/104 [==============================] - 1s 14ms/step - loss: 0.5913 - accuracy: 0.8125 - val_loss: 0.1786 - val_accuracy: 0.9385\n",
      "Epoch 13/100\n",
      "104/104 [==============================] - ETA: 0s - loss: 0.5433 - accuracy: 0.8346\n",
      "Epoch 13: val_loss improved from 0.17855 to 0.15292, saving model to letters_model.h5\n",
      "104/104 [==============================] - 1s 13ms/step - loss: 0.5433 - accuracy: 0.8346 - val_loss: 0.1529 - val_accuracy: 0.9577\n",
      "Epoch 14/100\n",
      "100/104 [===========================>..] - ETA: 0s - loss: 0.4748 - accuracy: 0.8540\n",
      "Epoch 14: val_loss did not improve from 0.15292\n",
      "104/104 [==============================] - 1s 12ms/step - loss: 0.4848 - accuracy: 0.8519 - val_loss: 0.1784 - val_accuracy: 0.9423\n",
      "Epoch 15/100\n",
      "103/104 [============================>.] - ETA: 0s - loss: 0.4326 - accuracy: 0.8544\n",
      "Epoch 15: val_loss improved from 0.15292 to 0.12633, saving model to letters_model.h5\n",
      "104/104 [==============================] - 1s 12ms/step - loss: 0.4311 - accuracy: 0.8538 - val_loss: 0.1263 - val_accuracy: 0.9538\n",
      "Epoch 16/100\n",
      "104/104 [==============================] - ETA: 0s - loss: 0.4419 - accuracy: 0.8750\n",
      "Epoch 16: val_loss did not improve from 0.12633\n",
      "104/104 [==============================] - 1s 13ms/step - loss: 0.4419 - accuracy: 0.8750 - val_loss: 0.1350 - val_accuracy: 0.9500\n",
      "Epoch 17/100\n",
      "101/104 [============================>.] - ETA: 0s - loss: 0.4384 - accuracy: 0.8723\n",
      "Epoch 17: val_loss did not improve from 0.12633\n",
      "104/104 [==============================] - 1s 13ms/step - loss: 0.4440 - accuracy: 0.8731 - val_loss: 0.1510 - val_accuracy: 0.9500\n",
      "Epoch 18/100\n",
      "104/104 [==============================] - ETA: 0s - loss: 0.3785 - accuracy: 0.8798\n",
      "Epoch 18: val_loss improved from 0.12633 to 0.11859, saving model to letters_model.h5\n",
      "104/104 [==============================] - 1s 14ms/step - loss: 0.3785 - accuracy: 0.8798 - val_loss: 0.1186 - val_accuracy: 0.9615\n",
      "Epoch 19/100\n",
      "104/104 [==============================] - ETA: 0s - loss: 0.4058 - accuracy: 0.8683\n",
      "Epoch 19: val_loss did not improve from 0.11859\n",
      "104/104 [==============================] - 1s 13ms/step - loss: 0.4058 - accuracy: 0.8683 - val_loss: 0.1202 - val_accuracy: 0.9500\n",
      "Epoch 20/100\n",
      "104/104 [==============================] - ETA: 0s - loss: 0.3534 - accuracy: 0.8837\n",
      "Epoch 20: val_loss improved from 0.11859 to 0.06279, saving model to letters_model.h5\n",
      "104/104 [==============================] - 1s 12ms/step - loss: 0.3534 - accuracy: 0.8837 - val_loss: 0.0628 - val_accuracy: 0.9846\n",
      "Epoch 21/100\n",
      "104/104 [==============================] - ETA: 0s - loss: 0.3430 - accuracy: 0.8990\n",
      "Epoch 21: val_loss did not improve from 0.06279\n",
      "104/104 [==============================] - 1s 13ms/step - loss: 0.3430 - accuracy: 0.8990 - val_loss: 0.0779 - val_accuracy: 0.9731\n",
      "Epoch 22/100\n",
      "104/104 [==============================] - ETA: 0s - loss: 0.3157 - accuracy: 0.8981\n",
      "Epoch 22: val_loss did not improve from 0.06279\n",
      "104/104 [==============================] - 1s 12ms/step - loss: 0.3157 - accuracy: 0.8981 - val_loss: 0.1332 - val_accuracy: 0.9538\n",
      "Epoch 23/100\n",
      "103/104 [============================>.] - ETA: 0s - loss: 0.3542 - accuracy: 0.8816\n",
      "Epoch 23: val_loss did not improve from 0.06279\n",
      "104/104 [==============================] - 1s 12ms/step - loss: 0.3524 - accuracy: 0.8817 - val_loss: 0.0999 - val_accuracy: 0.9692\n",
      "Epoch 24/100\n",
      "104/104 [==============================] - ETA: 0s - loss: 0.3011 - accuracy: 0.9058\n",
      "Epoch 24: val_loss did not improve from 0.06279\n",
      "104/104 [==============================] - 1s 12ms/step - loss: 0.3011 - accuracy: 0.9058 - val_loss: 0.1130 - val_accuracy: 0.9692\n",
      "Epoch 25/100\n",
      "100/104 [===========================>..] - ETA: 0s - loss: 0.2935 - accuracy: 0.9140\n",
      "Epoch 25: val_loss did not improve from 0.06279\n",
      "104/104 [==============================] - 1s 12ms/step - loss: 0.3019 - accuracy: 0.9125 - val_loss: 0.1395 - val_accuracy: 0.9577\n",
      "Epoch 25: early stopping\n"
     ]
    }
   ],
   "source": [
    "#history = model.fit(x_train, y_train, epochs = 100,\n",
    "#                    validation_data = (x_val, y_val),\n",
    "#                    batch_size = 16, verbose = 1,\n",
    "#                    callbacks = [early_stopping, mcp_save])\n",
    "history = model.fit(it_train, steps_per_epoch = steps, \n",
    "                    epochs = 100, validation_data = (x_val, y_val), verbose = 1,\n",
    "                   callbacks = [early_stopping, mcp_save])"
   ]
  },
  {
   "cell_type": "markdown",
   "id": "b05ed680-6984-476e-bf7f-0894725ecd76",
   "metadata": {},
   "source": [
    "### Plotting the losses and accuracy of training and validation datasets"
   ]
  },
  {
   "cell_type": "code",
   "execution_count": 20,
   "id": "a92801cb-fcd1-42fd-a325-69d1337cf2dd",
   "metadata": {},
   "outputs": [
    {
     "data": {
      "image/png": "[encoded data removed]",
      "text/plain": [
       "<Figure size 432x288 with 1 Axes>"
      ]
     },
     "metadata": {
      "needs_background": "light"
     },
     "output_type": "display_data"
    }
   ],
   "source": [
    "# plot training vs validation accuracy\n",
    "plt.plot(history.history['accuracy'])\n",
    "plt.plot(history.history['val_accuracy'])\n",
    "\n",
    "plt.title('CNN Model Accuracy')\n",
    "plt.ylabel('Accuracy')\n",
    "plt.xlabel('Number of Epochs')\n",
    "plt.legend(['training', 'validation'], loc='lower right')\n",
    "\n",
    "plt.show()"
   ]
  },
  {
   "cell_type": "code",
   "execution_count": 21,
   "id": "3ff8457d-e1b8-41aa-b6f4-9a0068a7c27e",
   "metadata": {},
   "outputs": [
    {
     "data": {
      "image/png": "[encoded data removed]",
      "text/plain": [
       "<Figure size 432x288 with 1 Axes>"
      ]
     },
     "metadata": {
      "needs_background": "light"
     },
     "output_type": "display_data"
    }
   ],
   "source": [
    "# Plot training vs validation losses\n",
    "plt.plot(history.history['loss'])\n",
    "plt.plot(history.history['val_loss'])\n",
    "\n",
    "plt.title('CNN Model Loss')\n",
    "plt.ylabel('Loss')\n",
    "plt.xlabel('Number of Epochs')\n",
    "plt.legend(['training', 'validation'], loc='upper right')\n",
    "\n",
    "plt.show()"
   ]
  },
  {
   "cell_type": "markdown",
   "id": "6aee222c-38ce-41aa-bfb0-c43c2fe49fae",
   "metadata": {},
   "source": [
    "### Evaluation"
   ]
  },
  {
   "cell_type": "code",
   "execution_count": 22,
   "id": "8e11fefd-8f50-4eea-b60a-09e1d58f72af",
   "metadata": {},
   "outputs": [
    {
     "name": "stdout",
     "output_type": "stream",
     "text": [
      "9/9 [==============================] - 0s 6ms/step\n"
     ]
    }
   ],
   "source": [
    "labels_pred = np.argmax(model.predict(x_val), axis = 1)"
   ]
  },
  {
   "cell_type": "code",
   "execution_count": 23,
   "id": "8e934bdb-edf6-4ba5-af6d-e401fc8b6db6",
   "metadata": {},
   "outputs": [],
   "source": [
    "cm = confusion_matrix(y_val, labels_pred, labels = list(ENCODER.inverse.keys()))"
   ]
  },
  {
   "cell_type": "code",
   "execution_count": 24,
   "id": "29c99c7b-c4cb-45ff-80f9-247dd99678ef",
   "metadata": {},
   "outputs": [
    {
     "data": {
      "image/png": "[encoded data removed]",
      "text/plain": [
       "<Figure size 864x864 with 1 Axes>"
      ]
     },
     "metadata": {
      "needs_background": "light"
     },
     "output_type": "display_data"
    }
   ],
   "source": [
    "plt.figure(figsize=(12, 12))\n",
    "ax = sns.heatmap(cm, annot=True, cbar=False, cmap=\"Blues\", xticklabels=list(ENCODER.keys()), yticklabels=list(ENCODER.keys()))\n",
    "ax.set(ylabel=\"True Label\", xlabel=\"Predicted Label\")\n",
    "plt.show()"
   ]
  },
  {
   "cell_type": "code",
   "execution_count": null,
   "id": "60b65461-da42-4754-a7dc-a124c23a1dec",
   "metadata": {},
   "outputs": [],
   "source": []
  }
 ],
 "metadata": {
  "kernelspec": {
   "display_name": "Python 3 (ipykernel)",
   "language": "python",
   "name": "python3"
  },
  "language_info": {
   "codemirror_mode": {
    "name": "ipython",
    "version": 3
   },
   "file_extension": ".py",
   "mimetype": "text/x-python",
   "name": "python",
   "nbconvert_exporter": "python",
   "pygments_lexer": "ipython3",
   "version": "3.9.13"
  }
 },
 "nbformat": 4,
 "nbformat_minor": 5
}
